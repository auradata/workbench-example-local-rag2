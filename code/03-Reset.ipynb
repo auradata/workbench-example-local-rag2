{
 "cells": [
  {
   "cell_type": "markdown",
   "id": "f571665c-7ba5-48aa-a946-0b9e30d0c76a",
   "metadata": {},
   "source": [
    "# Reset Document Database\n",
    "\n",
    "**WARNING: RUNNING THIS NOTEBOOK WILL DELETE ALL INDEXED DOCUMENTS.**\n",
    "\n",
    "Run this notebook if you want to clear out your indexed documents and start over.\n",
    "\n",
    "After running this notebook, make adjustments to your dataset, upload in your documents again (via notebook 02), and restart the `chat` app in AI Workbench. "
   ]
  },
  {
   "cell_type": "code",
   "execution_count": 1,
   "id": "8d6a43da-0127-4b83-95c2-28776e097dac",
   "metadata": {},
   "outputs": [],
   "source": [
    "import os\n",
    "import shutil\n",
    "from milvus import default_server\n",
    "from pymilvus import connections, utility, Collection"
   ]
  },
  {
   "cell_type": "code",
   "execution_count": 2,
   "id": "ef06615d-c997-4ee1-a9eb-f9a98006400a",
   "metadata": {},
   "outputs": [
    {
     "ename": "MilvusException",
     "evalue": "<MilvusException: (code=2, message=Fail connecting to server on localhost:19530. Timeout)>",
     "output_type": "error",
     "traceback": [
      "\u001b[0;31m---------------------------------------------------------------------------\u001b[0m",
      "\u001b[0;31mFutureTimeoutError\u001b[0m                        Traceback (most recent call last)",
      "File \u001b[0;32m/opt/conda/lib/python3.9/site-packages/pymilvus/client/grpc_handler.py:143\u001b[0m, in \u001b[0;36mGrpcHandler._wait_for_channel_ready\u001b[0;34m(self, timeout)\u001b[0m\n\u001b[1;32m    142\u001b[0m \u001b[38;5;28;01mtry\u001b[39;00m:\n\u001b[0;32m--> 143\u001b[0m     \u001b[43mgrpc\u001b[49m\u001b[38;5;241;43m.\u001b[39;49m\u001b[43mchannel_ready_future\u001b[49m\u001b[43m(\u001b[49m\u001b[38;5;28;43mself\u001b[39;49m\u001b[38;5;241;43m.\u001b[39;49m\u001b[43m_channel\u001b[49m\u001b[43m)\u001b[49m\u001b[38;5;241;43m.\u001b[39;49m\u001b[43mresult\u001b[49m\u001b[43m(\u001b[49m\u001b[43mtimeout\u001b[49m\u001b[38;5;241;43m=\u001b[39;49m\u001b[43mtimeout\u001b[49m\u001b[43m)\u001b[49m\n\u001b[1;32m    144\u001b[0m     \u001b[38;5;28mself\u001b[39m\u001b[38;5;241m.\u001b[39m_setup_identifier_interceptor(\u001b[38;5;28mself\u001b[39m\u001b[38;5;241m.\u001b[39m_user, timeout\u001b[38;5;241m=\u001b[39mtimeout)\n",
      "File \u001b[0;32m/opt/conda/lib/python3.9/site-packages/grpc/_utilities.py:162\u001b[0m, in \u001b[0;36m_ChannelReadyFuture.result\u001b[0;34m(self, timeout)\u001b[0m\n\u001b[1;32m    161\u001b[0m \u001b[38;5;28;01mdef\u001b[39;00m \u001b[38;5;21mresult\u001b[39m(\u001b[38;5;28mself\u001b[39m, timeout: Optional[\u001b[38;5;28mfloat\u001b[39m] \u001b[38;5;241m=\u001b[39m \u001b[38;5;28;01mNone\u001b[39;00m) \u001b[38;5;241m-\u001b[39m\u001b[38;5;241m>\u001b[39m \u001b[38;5;28;01mNone\u001b[39;00m:\n\u001b[0;32m--> 162\u001b[0m     \u001b[38;5;28;43mself\u001b[39;49m\u001b[38;5;241;43m.\u001b[39;49m\u001b[43m_block\u001b[49m\u001b[43m(\u001b[49m\u001b[43mtimeout\u001b[49m\u001b[43m)\u001b[49m\n",
      "File \u001b[0;32m/opt/conda/lib/python3.9/site-packages/grpc/_utilities.py:106\u001b[0m, in \u001b[0;36m_ChannelReadyFuture._block\u001b[0;34m(self, timeout)\u001b[0m\n\u001b[1;32m    105\u001b[0m \u001b[38;5;28;01mif\u001b[39;00m remaining \u001b[38;5;241m<\u001b[39m \u001b[38;5;241m0\u001b[39m:\n\u001b[0;32m--> 106\u001b[0m     \u001b[38;5;28;01mraise\u001b[39;00m grpc\u001b[38;5;241m.\u001b[39mFutureTimeoutError()\n\u001b[1;32m    107\u001b[0m \u001b[38;5;28;01melse\u001b[39;00m:\n",
      "\u001b[0;31mFutureTimeoutError\u001b[0m: ",
      "\nThe above exception was the direct cause of the following exception:\n",
      "\u001b[0;31mMilvusException\u001b[0m                           Traceback (most recent call last)",
      "Cell \u001b[0;32mIn[2], line 2\u001b[0m\n\u001b[1;32m      1\u001b[0m \u001b[38;5;66;03m# Get connection to DB\u001b[39;00m\n\u001b[0;32m----> 2\u001b[0m \u001b[43mconnections\u001b[49m\u001b[38;5;241;43m.\u001b[39;49m\u001b[43mconnect\u001b[49m\u001b[43m(\u001b[49m\u001b[43mhost\u001b[49m\u001b[38;5;241;43m=\u001b[39;49m\u001b[38;5;124;43m'\u001b[39;49m\u001b[38;5;124;43mlocalhost\u001b[39;49m\u001b[38;5;124;43m'\u001b[39;49m\u001b[43m,\u001b[49m\u001b[43m \u001b[49m\u001b[43mport\u001b[49m\u001b[38;5;241;43m=\u001b[39;49m\u001b[38;5;241;43m19530\u001b[39;49m\u001b[43m)\u001b[49m\n\u001b[1;32m      4\u001b[0m \u001b[38;5;66;03m# Get collection\u001b[39;00m\n\u001b[1;32m      5\u001b[0m collection \u001b[38;5;241m=\u001b[39m Collection(utility\u001b[38;5;241m.\u001b[39mlist_collections()[\u001b[38;5;241m0\u001b[39m])\n",
      "File \u001b[0;32m/opt/conda/lib/python3.9/site-packages/pymilvus/orm/connections.py:414\u001b[0m, in \u001b[0;36mConnections.connect\u001b[0;34m(self, alias, user, password, db_name, token, **kwargs)\u001b[0m\n\u001b[1;32m    411\u001b[0m         \u001b[38;5;28;01mif\u001b[39;00m parsed_uri\u001b[38;5;241m.\u001b[39mscheme \u001b[38;5;241m==\u001b[39m \u001b[38;5;124m\"\u001b[39m\u001b[38;5;124mhttps\u001b[39m\u001b[38;5;124m\"\u001b[39m:\n\u001b[1;32m    412\u001b[0m             kwargs[\u001b[38;5;124m\"\u001b[39m\u001b[38;5;124msecure\u001b[39m\u001b[38;5;124m\"\u001b[39m] \u001b[38;5;241m=\u001b[39m \u001b[38;5;28;01mTrue\u001b[39;00m\n\u001b[0;32m--> 414\u001b[0m     \u001b[43mconnect_milvus\u001b[49m\u001b[43m(\u001b[49m\u001b[38;5;241;43m*\u001b[39;49m\u001b[38;5;241;43m*\u001b[39;49m\u001b[43mkwargs\u001b[49m\u001b[43m,\u001b[49m\u001b[43m \u001b[49m\u001b[43muser\u001b[49m\u001b[38;5;241;43m=\u001b[39;49m\u001b[43muser\u001b[49m\u001b[43m,\u001b[49m\u001b[43m \u001b[49m\u001b[43mpassword\u001b[49m\u001b[38;5;241;43m=\u001b[39;49m\u001b[43mpassword\u001b[49m\u001b[43m,\u001b[49m\u001b[43m \u001b[49m\u001b[43mtoken\u001b[49m\u001b[38;5;241;43m=\u001b[39;49m\u001b[43mtoken\u001b[49m\u001b[43m,\u001b[49m\u001b[43m \u001b[49m\u001b[43mdb_name\u001b[49m\u001b[38;5;241;43m=\u001b[39;49m\u001b[43mdb_name\u001b[49m\u001b[43m)\u001b[49m\n\u001b[1;32m    415\u001b[0m     \u001b[38;5;28;01mreturn\u001b[39;00m\n\u001b[1;32m    417\u001b[0m \u001b[38;5;66;03m# 2nd Priority, connection configs from env\u001b[39;00m\n",
      "File \u001b[0;32m/opt/conda/lib/python3.9/site-packages/pymilvus/orm/connections.py:365\u001b[0m, in \u001b[0;36mConnections.connect.<locals>.connect_milvus\u001b[0;34m(**kwargs)\u001b[0m\n\u001b[1;32m    362\u001b[0m t \u001b[38;5;241m=\u001b[39m kwargs\u001b[38;5;241m.\u001b[39mget(\u001b[38;5;124m\"\u001b[39m\u001b[38;5;124mtimeout\u001b[39m\u001b[38;5;124m\"\u001b[39m)\n\u001b[1;32m    363\u001b[0m timeout \u001b[38;5;241m=\u001b[39m t \u001b[38;5;28;01mif\u001b[39;00m \u001b[38;5;28misinstance\u001b[39m(t, (\u001b[38;5;28mint\u001b[39m, \u001b[38;5;28mfloat\u001b[39m)) \u001b[38;5;28;01melse\u001b[39;00m Config\u001b[38;5;241m.\u001b[39mMILVUS_CONN_TIMEOUT\n\u001b[0;32m--> 365\u001b[0m \u001b[43mgh\u001b[49m\u001b[38;5;241;43m.\u001b[39;49m\u001b[43m_wait_for_channel_ready\u001b[49m\u001b[43m(\u001b[49m\u001b[43mtimeout\u001b[49m\u001b[38;5;241;43m=\u001b[39;49m\u001b[43mtimeout\u001b[49m\u001b[43m)\u001b[49m\n\u001b[1;32m    366\u001b[0m \u001b[38;5;28;01mif\u001b[39;00m kwargs\u001b[38;5;241m.\u001b[39mget(\u001b[38;5;124m\"\u001b[39m\u001b[38;5;124mkeep_alive\u001b[39m\u001b[38;5;124m\"\u001b[39m, \u001b[38;5;28;01mFalse\u001b[39;00m):\n\u001b[1;32m    367\u001b[0m     gh\u001b[38;5;241m.\u001b[39mregister_state_change_callback(\n\u001b[1;32m    368\u001b[0m         ReconnectHandler(\u001b[38;5;28mself\u001b[39m, alias, kwargs_copy)\u001b[38;5;241m.\u001b[39mreconnect_on_idle\n\u001b[1;32m    369\u001b[0m     )\n",
      "File \u001b[0;32m/opt/conda/lib/python3.9/site-packages/pymilvus/client/grpc_handler.py:146\u001b[0m, in \u001b[0;36mGrpcHandler._wait_for_channel_ready\u001b[0;34m(self, timeout)\u001b[0m\n\u001b[1;32m    144\u001b[0m     \u001b[38;5;28mself\u001b[39m\u001b[38;5;241m.\u001b[39m_setup_identifier_interceptor(\u001b[38;5;28mself\u001b[39m\u001b[38;5;241m.\u001b[39m_user, timeout\u001b[38;5;241m=\u001b[39mtimeout)\n\u001b[1;32m    145\u001b[0m \u001b[38;5;28;01mexcept\u001b[39;00m grpc\u001b[38;5;241m.\u001b[39mFutureTimeoutError \u001b[38;5;28;01mas\u001b[39;00m e:\n\u001b[0;32m--> 146\u001b[0m     \u001b[38;5;28;01mraise\u001b[39;00m MilvusException(\n\u001b[1;32m    147\u001b[0m         code\u001b[38;5;241m=\u001b[39mStatus\u001b[38;5;241m.\u001b[39mCONNECT_FAILED,\n\u001b[1;32m    148\u001b[0m         message\u001b[38;5;241m=\u001b[39m\u001b[38;5;124mf\u001b[39m\u001b[38;5;124m\"\u001b[39m\u001b[38;5;124mFail connecting to server on \u001b[39m\u001b[38;5;132;01m{\u001b[39;00m\u001b[38;5;28mself\u001b[39m\u001b[38;5;241m.\u001b[39m_address\u001b[38;5;132;01m}\u001b[39;00m\u001b[38;5;124m. Timeout\u001b[39m\u001b[38;5;124m\"\u001b[39m,\n\u001b[1;32m    149\u001b[0m     ) \u001b[38;5;28;01mfrom\u001b[39;00m \u001b[38;5;21;01me\u001b[39;00m\n\u001b[1;32m    150\u001b[0m \u001b[38;5;28;01mexcept\u001b[39;00m \u001b[38;5;167;01mException\u001b[39;00m \u001b[38;5;28;01mas\u001b[39;00m e:\n\u001b[1;32m    151\u001b[0m     \u001b[38;5;28;01mraise\u001b[39;00m e \u001b[38;5;28;01mfrom\u001b[39;00m \u001b[38;5;21;01me\u001b[39;00m\n",
      "\u001b[0;31mMilvusException\u001b[0m: <MilvusException: (code=2, message=Fail connecting to server on localhost:19530. Timeout)>"
     ]
    }
   ],
   "source": [
    "# Get connection to DB\n",
    "connections.connect(host='localhost', port=19530)\n",
    "\n",
    "# Get collection\n",
    "collection = Collection(utility.list_collections()[0])\n",
    "\n",
    "# Delete entities\n",
    "expr = \"id!=''\"\n",
    "collection.delete(expr)"
   ]
  },
  {
   "cell_type": "code",
   "execution_count": null,
   "id": "30aa9e02-66e6-4c91-a625-a7fe1f8a1e69",
   "metadata": {},
   "outputs": [],
   "source": [
    "# Query all entities\n",
    "result = collection.query(expr=\"id!=''\", output_fields=[\"id\"])\n",
    "\n",
    "# Extract all IDs\n",
    "id_array = [entity[\"id\"] for entity in result]\n",
    "\n",
    "# Ensure database is empty\n",
    "print(id_array)"
   ]
  },
  {
   "cell_type": "code",
   "execution_count": null,
   "id": "e8c6120b-7969-4da7-a865-0fb657f37f1e",
   "metadata": {},
   "outputs": [],
   "source": [
    "if os.path.exists(\"../data/documents/.file_cache.json\"):\n",
    "    os.remove(\"../data/documents/.file_cache.json\")\n",
    "    \n",
    "if os.path.exists(\"../data/documents/.file_cache.lock\"):\n",
    "    os.remove(\"../data/documents/.file_cache.lock\")\n",
    "\n",
    "if os.path.exists(\"../data/documents/.ipynb_checkpoints\"):\n",
    "    shutil.rmtree(\"../data/documents/.ipynb_checkpoints\")\n"
   ]
  },
  {
   "cell_type": "markdown",
   "id": "da18a0ac-b462-4da9-a590-4ac53bdaff9b",
   "metadata": {},
   "source": [
    "### Now make adjustments to your dataset, upload in your documents again (via notebook 02), and restart the `chat` app in AI Workbench."
   ]
  },
  {
   "cell_type": "code",
   "execution_count": null,
   "id": "9f848959-24b8-40db-8ce0-753ce05422c2",
   "metadata": {},
   "outputs": [],
   "source": []
  }
 ],
 "metadata": {
  "kernelspec": {
   "display_name": "Python 3 (ipykernel)",
   "language": "python",
   "name": "python3"
  },
  "language_info": {
   "codemirror_mode": {
    "name": "ipython",
    "version": 3
   },
   "file_extension": ".py",
   "mimetype": "text/x-python",
   "name": "python",
   "nbconvert_exporter": "python",
   "pygments_lexer": "ipython3",
   "version": "3.9.18"
  }
 },
 "nbformat": 4,
 "nbformat_minor": 5
}
