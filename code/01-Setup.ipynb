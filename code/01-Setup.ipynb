{
 "cells": [
  {
   "cell_type": "markdown",
   "id": "4d1c8227-4f22-4cff-a04d-ead3a5f496b4",
   "metadata": {},
   "source": [
    "# Get Started!\n",
    "You can run this project in various configurations. Review the README file for more information.\n",
    "\n",
    "Run this notebook when you first clone & configure the project to make sure your environment variable configuration is\n",
    "reasonable and the model is downloaded if needed."
   ]
  },
  {
   "cell_type": "code",
   "execution_count": 1,
   "id": "cb968ff3-2f42-4c2d-8212-def7891c6a23",
   "metadata": {},
   "outputs": [
    {
     "name": "stdout",
     "output_type": "stream",
     "text": [
      "Inference Mode: Local\n",
      "Num GPUs: 2\n",
      "Num Inference GPUs: 1\n",
      "Total Inference VRAM: 47.33 GB\n",
      "Quantize Mode: bitsandbytes-nf4\n",
      "Embedding Device: cuda:1\n"
     ]
    }
   ],
   "source": [
    "from helpers.setup import check_setup\n",
    "inference_mode = check_setup()"
   ]
  },
  {
   "cell_type": "code",
   "execution_count": 2,
   "id": "f09bcb32-ebcc-4d5f-ab62-e64a4fe7ee4f",
   "metadata": {},
   "outputs": [
    {
     "name": "stdout",
     "output_type": "stream",
     "text": [
      "Downloading model weights...\n",
      "Download file: model-00001-of-00003.safetensors\n",
      "Downloaded /data/models--meta-llama--Llama-2-13b-chat-hf/snapshots/c2f3ec81aac798ae26dcc57799a994dfbf521496/model-00001-of-00003.safetensors in 0:01:25.\n",
      "Download: [1/3] -- ETA: 0:02:50\n",
      "Download file: model-00002-of-00003.safetensors\n",
      "Downloaded /data/models--meta-llama--Llama-2-13b-chat-hf/snapshots/c2f3ec81aac798ae26dcc57799a994dfbf521496/model-00002-of-00003.safetensors in 0:01:26.\n",
      "Download: [2/3] -- ETA: 0:01:26\n",
      "Download file: model-00003-of-00003.safetensors\n",
      "Downloaded /data/models--meta-llama--Llama-2-13b-chat-hf/snapshots/c2f3ec81aac798ae26dcc57799a994dfbf521496/model-00003-of-00003.safetensors in 0:00:53.\n",
      "Download: [3/3] -- ETA: 0\n"
     ]
    }
   ],
   "source": [
    "print(\"Downloading model weights...\") \n",
    "!text-generation-server download-weights $MODEL_ID --auto-convert\n"
   ]
  },
  {
   "cell_type": "code",
   "execution_count": null,
   "id": "a63a0476-b35a-4ff0-9faa-c90538663846",
   "metadata": {},
   "outputs": [],
   "source": []
  }
 ],
 "metadata": {
  "kernelspec": {
   "display_name": "Python 3 (ipykernel)",
   "language": "python",
   "name": "python3"
  },
  "language_info": {
   "codemirror_mode": {
    "name": "ipython",
    "version": 3
   },
   "file_extension": ".py",
   "mimetype": "text/x-python",
   "name": "python",
   "nbconvert_exporter": "python",
   "pygments_lexer": "ipython3",
   "version": "3.9.18"
  }
 },
 "nbformat": 4,
 "nbformat_minor": 5
}
